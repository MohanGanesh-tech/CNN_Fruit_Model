{
 "cells": [
  {
   "cell_type": "code",
   "execution_count": 1,
   "metadata": {},
   "outputs": [
    {
     "name": "stderr",
     "output_type": "stream",
     "text": [
      "Using TensorFlow backend.\n"
     ]
    }
   ],
   "source": [
    "import tensorflow as tf\n",
    "from tensorflow.keras.models import Sequential\n",
    "from tensorflow.keras.layers import Dense, Dropout, Activation, Flatten, Conv2D, MaxPooling2D\n",
    "import numpy as np\n",
    "import matplotlib.pyplot as plt\n",
    "import pandas as pd\n",
    "import os, sys\n",
    "import numpy as np\n",
    "import cv2\n",
    "import random\n",
    "from tqdm import tqdm\n",
    "import pickle\n",
    "from sklearn.model_selection import train_test_split\n",
    "from keras.utils import to_categorical\n",
    "from skimage.transform import resize\n",
    "from tensorflow.keras.models import load_model"
   ]
  },
  {
   "cell_type": "code",
   "execution_count": 2,
   "metadata": {},
   "outputs": [
    {
     "name": "stdout",
     "output_type": "stream",
     "text": [
      "Tensorflow:  1.15.0 \n",
      "\n",
      "Device mapping:\n",
      "\n",
      "Device avialable to Tensorflow: \n",
      "\n",
      " [name: \"/device:CPU:0\"\n",
      "device_type: \"CPU\"\n",
      "memory_limit: 268435456\n",
      "locality {\n",
      "}\n",
      "incarnation: 1110469095275242129\n",
      "]\n"
     ]
    }
   ],
   "source": [
    "print(\"Tensorflow: \",tf.__version__,\"\\n\")\n",
    "sess = tf.Session(config=tf.ConfigProto(log_device_placement=True))\n",
    "from tensorflow.python.client import device_lib\n",
    "print(\"Device avialable to Tensorflow: \\n\\n\",device_lib.list_local_devices())"
   ]
  },
  {
   "cell_type": "code",
   "execution_count": 3,
   "metadata": {},
   "outputs": [
    {
     "name": "stdout",
     "output_type": "stream",
     "text": [
      "C:\\Users\\Ganesh\\Desktop\\Final\\Dataset \n",
      " ['Apple Braeburn', 'Apple Crimson Snow', 'Apple Golden 1', 'Apple Golden 2', 'Apple Golden 3', 'Apple Granny Smith', 'Apple Pink Lady', 'Apple Red 1', 'Apple Red 2', 'Apple Red 3', 'Apple Red Delicious', 'Apple Red Yellow 1', 'Apple Red Yellow 2', 'Apricot', 'Avocado', 'Avocado ripe', 'Banana', 'Banana Lady Finger', 'Banana Red', 'Beetroot', 'Blueberry', 'Cactus fruit', 'Cantaloupe 1', 'Cantaloupe 2', 'Carambula', 'Cauliflower', 'Cherry 1', 'Cherry 2', 'Cherry Rainier', 'Cherry Wax Black', 'Cherry Wax Red', 'Cherry Wax Yellow', 'Chestnut', 'Clementine', 'Cocos', 'Corn', 'Corn Husk', 'Cucumber Ripe', 'Cucumber Ripe 2', 'Dates', 'Eggplant', 'Fig', 'Ginger Root', 'Granadilla', 'Grape Blue', 'Grape Pink', 'Grape White', 'Grape White 2', 'Grape White 3', 'Grape White 4', 'Grapefruit Pink', 'Grapefruit White', 'Guava', 'Hazelnut', 'Huckleberry', 'Kaki', 'Kiwi', 'Kohlrabi', 'Kumquats', 'Lemon', 'Lemon Meyer', 'Limes', 'Lychee', 'Mandarine', 'Mango', 'Mango Red', 'Mangostan', 'Maracuja', 'Melon Piel de Sapo', 'Mulberry', 'Nectarine', 'Nectarine Flat', 'Nut Forest', 'Nut Pecan', 'Onion Red', 'Onion Red Peeled', 'Onion White', 'Orange', 'Papaya', 'Passion Fruit', 'Peach', 'Peach 2', 'Peach Flat', 'Pear', 'Pear 2', 'Pear Abate', 'Pear Forelle', 'Pear Kaiser', 'Pear Monster', 'Pear Red', 'Pear Stone', 'Pear Williams', 'Pepino', 'Pepper Green', 'Pepper Orange', 'Pepper Red', 'Pepper Yellow', 'Physalis', 'Physalis with Husk', 'Pineapple', 'Pineapple Mini', 'Pitahaya Red', 'Plum', 'Plum 2', 'Plum 3', 'Pomegranate', 'Pomelo Sweetie', 'Potato Red', 'Potato Red Washed', 'Potato Sweet', 'Potato White', 'Quince', 'Rambutan', 'Raspberry', 'Redcurrant', 'Salak', 'Strawberry', 'Strawberry Wedge', 'Tamarillo', 'Tangelo', 'Tomato 1', 'Tomato 2', 'Tomato 3', 'Tomato 4', 'Tomato Cherry Red', 'Tomato Heart', 'Tomato Maroon', 'Tomato not Ripened', 'Tomato Yellow', 'Walnut', 'Watermelon']\n"
     ]
    }
   ],
   "source": [
    "BASE_DIR=os.getcwd()\n",
    "dataset_dir=os.path.join(BASE_DIR,\"Dataset\")\n",
    "categories=os.listdir(dataset_dir)\n",
    "print(dataset_dir,\"\\n\",categories)"
   ]
  },
  {
   "cell_type": "code",
   "execution_count": 4,
   "metadata": {},
   "outputs": [
    {
     "name": "stdout",
     "output_type": "stream",
     "text": [
      "Please Wait it will take some time\n",
      "\n",
      " \n",
      " Total Traning Data Length 67692\n"
     ]
    }
   ],
   "source": [
    "training_data = []\n",
    "IMG_SIZE = 100\n",
    "def create_training_data():\n",
    "    print(\"Please Wait it will take some time\")\n",
    "    for category in categories:\n",
    "        path = os.path.join(dataset_dir,category)\n",
    "        class_num = categories.index(category)\n",
    "        for img in os.listdir(path):\n",
    "            try:\n",
    "                img_array = cv2.imread(os.path.join(path,img),cv2.IMREAD_GRAYSCALE)\n",
    "                new_array = cv2.resize(img_array, (IMG_SIZE,IMG_SIZE))\n",
    "                training_data.append([new_array,class_num])\n",
    "                \n",
    "            except Exception as e:\n",
    "                print(e)\n",
    "                pass\n",
    "            \n",
    "create_training_data()\n",
    "print(\"\\n \\n Total Traning Data Length\",len(training_data))"
   ]
  },
  {
   "cell_type": "code",
   "execution_count": 5,
   "metadata": {},
   "outputs": [],
   "source": [
    "random.shuffle(training_data)"
   ]
  },
  {
   "cell_type": "code",
   "execution_count": 6,
   "metadata": {},
   "outputs": [],
   "source": [
    "X = []\n",
    "y = []\n",
    "\n",
    "for features,labels in training_data:\n",
    "    X.append(features)\n",
    "    y.append(labels)\n",
    "    \n",
    "X = np.array(X).reshape(-1,IMG_SIZE,IMG_SIZE,1)\n",
    "y = np.array(y)"
   ]
  },
  {
   "cell_type": "code",
   "execution_count": 7,
   "metadata": {},
   "outputs": [],
   "source": [
    "pickle_out = open(\"X.pickle\",\"wb\")\n",
    "pickle.dump(X,pickle_out)\n",
    "pickle_out.close()\n",
    "\n",
    "pickle_out = open(\"y.pickle\",\"wb\")\n",
    "pickle.dump(y,pickle_out)\n",
    "pickle_out.close()\n",
    "\n",
    "del X,y"
   ]
  },
  {
   "cell_type": "code",
   "execution_count": 8,
   "metadata": {},
   "outputs": [],
   "source": [
    "X = []\n",
    "y = []\n",
    "\n",
    "X = pickle.load(open(\"X.pickle\",\"rb\"))\n",
    "y = pickle.load(open(\"y.pickle\",\"rb\"))\n",
    "\n",
    "x_train, x_test, y_train, y_test = train_test_split(X,y,test_size=0.2)\n",
    "\n",
    "y_train_one_hot = to_categorical(y_train)\n",
    "y_test_one_hot = to_categorical(y_test)\n",
    "\n",
    "del labels,features,y_train,y_test,X,y\n",
    "\n",
    "x_train = x_train / 255\n",
    "x_test = x_test / 255"
   ]
  },
  {
   "cell_type": "code",
   "execution_count": 9,
   "metadata": {},
   "outputs": [
    {
     "name": "stdout",
     "output_type": "stream",
     "text": [
      "WARNING:tensorflow:From c:\\users\\ganesh\\anaconda3\\envs\\tf-gpu\\lib\\site-packages\\tensorflow_core\\python\\ops\\resource_variable_ops.py:1630: calling BaseResourceVariable.__init__ (from tensorflow.python.ops.resource_variable_ops) with constraint is deprecated and will be removed in a future version.\n",
      "Instructions for updating:\n",
      "If using Keras pass *_constraint arguments to layers.\n",
      "Train on 37907 samples, validate on 16246 samples\n",
      "Epoch 1/25\n",
      "37907/37907 [==============================] - 227s 6ms/sample - loss: 0.0065 - acc: 0.2399 - val_loss: 0.0052 - val_acc: 0.4551\n",
      "Epoch 2/25\n",
      "37907/37907 [==============================] - 217s 6ms/sample - loss: 0.0029 - acc: 0.7301 - val_loss: 0.0023 - val_acc: 0.7871\n",
      "Epoch 3/25\n",
      "37907/37907 [==============================] - 215s 6ms/sample - loss: 0.0015 - acc: 0.8642 - val_loss: 0.0011 - val_acc: 0.8999\n",
      "Epoch 4/25\n",
      "37907/37907 [==============================] - 213s 6ms/sample - loss: 9.6707e-04 - acc: 0.9162 - val_loss: 9.3313e-04 - val_acc: 0.9200\n",
      "Epoch 5/25\n",
      "37907/37907 [==============================] - 214s 6ms/sample - loss: 7.5432e-04 - acc: 0.9341 - val_loss: 7.2333e-04 - val_acc: 0.9344\n",
      "Epoch 6/25\n",
      "37907/37907 [==============================] - 215s 6ms/sample - loss: 6.4145e-04 - acc: 0.9438 - val_loss: 6.9645e-04 - val_acc: 0.9396\n",
      "Epoch 7/25\n",
      "37907/37907 [==============================] - 217s 6ms/sample - loss: 5.6743e-04 - acc: 0.9499 - val_loss: 7.5781e-04 - val_acc: 0.9336\n",
      "Epoch 8/25\n",
      "37907/37907 [==============================] - 674s 18ms/sample - loss: 4.8355e-04 - acc: 0.9572 - val_loss: 4.7739e-04 - val_acc: 0.9561\n",
      "Epoch 9/25\n",
      "37907/37907 [==============================] - 203s 5ms/sample - loss: 4.5086e-04 - acc: 0.9596 - val_loss: 5.1459e-04 - val_acc: 0.9537\n",
      "Epoch 10/25\n",
      "37907/37907 [==============================] - 203s 5ms/sample - loss: 4.1237e-04 - acc: 0.9635 - val_loss: 3.2531e-04 - val_acc: 0.9713\n",
      "Epoch 11/25\n",
      "37907/37907 [==============================] - 204s 5ms/sample - loss: 3.1924e-04 - acc: 0.9721 - val_loss: 3.7253e-04 - val_acc: 0.9677\n",
      "Epoch 12/25\n",
      "37907/37907 [==============================] - 204s 5ms/sample - loss: 2.9382e-04 - acc: 0.9745 - val_loss: 3.6032e-04 - val_acc: 0.9696\n",
      "Epoch 13/25\n",
      "37907/37907 [==============================] - 217s 6ms/sample - loss: 2.4140e-04 - acc: 0.9792 - val_loss: 3.2886e-04 - val_acc: 0.9721\n",
      "Epoch 14/25\n",
      "37907/37907 [==============================] - 227s 6ms/sample - loss: 2.7534e-04 - acc: 0.9760 - val_loss: 3.2380e-04 - val_acc: 0.9718\n",
      "Epoch 15/25\n",
      "37907/37907 [==============================] - 227s 6ms/sample - loss: 2.6948e-04 - acc: 0.9764 - val_loss: 2.4419e-04 - val_acc: 0.9780\n",
      "Epoch 16/25\n",
      "37907/37907 [==============================] - 227s 6ms/sample - loss: 2.0150e-04 - acc: 0.9821 - val_loss: 2.6468e-04 - val_acc: 0.9763\n",
      "Epoch 17/25\n",
      "37907/37907 [==============================] - 218s 6ms/sample - loss: 1.6576e-04 - acc: 0.9855 - val_loss: 1.2530e-04 - val_acc: 0.9889\n",
      "Epoch 18/25\n",
      "37907/37907 [==============================] - 215s 6ms/sample - loss: 1.7634e-04 - acc: 0.9850 - val_loss: 2.7815e-04 - val_acc: 0.9767\n",
      "Epoch 19/25\n",
      "37907/37907 [==============================] - 214s 6ms/sample - loss: 1.2704e-04 - acc: 0.9890 - val_loss: 1.3147e-04 - val_acc: 0.9888\n",
      "Epoch 20/25\n",
      "37907/37907 [==============================] - 214s 6ms/sample - loss: 1.6844e-04 - acc: 0.9852 - val_loss: 3.1689e-04 - val_acc: 0.9739\n",
      "Epoch 21/25\n",
      "37907/37907 [==============================] - 214s 6ms/sample - loss: 1.6131e-04 - acc: 0.9863 - val_loss: 1.7692e-04 - val_acc: 0.9849\n",
      "Epoch 22/25\n",
      "37907/37907 [==============================] - 216s 6ms/sample - loss: 1.5258e-04 - acc: 0.9867 - val_loss: 2.0547e-04 - val_acc: 0.9829\n",
      "Epoch 23/25\n",
      "37907/37907 [==============================] - 218s 6ms/sample - loss: 1.3865e-04 - acc: 0.9882 - val_loss: 1.1828e-04 - val_acc: 0.9897\n",
      "Epoch 24/25\n",
      "37907/37907 [==============================] - 218s 6ms/sample - loss: 1.0372e-04 - acc: 0.9909 - val_loss: 1.8525e-04 - val_acc: 0.9847\n",
      "Epoch 25/25\n",
      "37907/37907 [==============================] - 216s 6ms/sample - loss: 1.5506e-04 - acc: 0.9867 - val_loss: 2.7947e-04 - val_acc: 0.9775\n",
      "Model: \"sequential\"\n",
      "_________________________________________________________________\n",
      "Layer (type)                 Output Shape              Param #   \n",
      "=================================================================\n",
      "conv2d (Conv2D)              (None, 98, 98, 64)        640       \n",
      "_________________________________________________________________\n",
      "max_pooling2d (MaxPooling2D) (None, 49, 49, 64)        0         \n",
      "_________________________________________________________________\n",
      "conv2d_1 (Conv2D)            (None, 16, 16, 64)        36928     \n",
      "_________________________________________________________________\n",
      "max_pooling2d_1 (MaxPooling2 (None, 8, 8, 64)          0         \n",
      "_________________________________________________________________\n",
      "flatten (Flatten)            (None, 4096)              0         \n",
      "_________________________________________________________________\n",
      "dense (Dense)                (None, 128)               524416    \n",
      "_________________________________________________________________\n",
      "dense_1 (Dense)              (None, 64)                8256      \n",
      "_________________________________________________________________\n",
      "dense_2 (Dense)              (None, 131)               8515      \n",
      "=================================================================\n",
      "Total params: 578,755\n",
      "Trainable params: 578,755\n",
      "Non-trainable params: 0\n",
      "_________________________________________________________________\n",
      "13539/13539 [==============================] - 19s 1ms/sample - loss: 2.9412e-04 - acc: 0.9756\n",
      "dict_keys(['loss', 'acc', 'val_loss', 'val_acc'])\n"
     ]
    }
   ],
   "source": [
    "model = Sequential()\n",
    "\n",
    "model.add(Conv2D(64, (3,3), input_shape = x_train.shape[1:],activation ='relu'))\n",
    "model.add(MaxPooling2D(pool_size=(2,2)))\n",
    "\n",
    "model.add(Conv2D(64,3,3, activation ='relu'))\n",
    "model.add(MaxPooling2D(pool_size=(2,2)))\n",
    "\n",
    "model.add(Flatten())\n",
    "\n",
    "model.add(Dense(128,activation= 'relu'))\n",
    "\n",
    "model.add(Dense(64,activation= 'relu'))\n",
    "model.add(Dense(len(categories), activation='softmax'))\n",
    "\n",
    "model.compile(loss=\"mean_squared_error\",optimizer='adam',metrics=['accuracy'])\n",
    "\n",
    "hist = model.fit(x_train, y_train_one_hot,batch_size=50, epochs=25, validation_split=0.3 )\n",
    "\n",
    "model.save('saved_models/model.h5')\n",
    "\n",
    "model.summary()\n",
    "\n",
    "model.evaluate(x_test, y_test_one_hot)[1]\n",
    "\n",
    "history_dict = hist.history\n",
    "print(history_dict.keys())"
   ]
  },
  {
   "cell_type": "code",
   "execution_count": 10,
   "metadata": {},
   "outputs": [
    {
     "name": "stdout",
     "output_type": "stream",
     "text": [
      "WARNING:tensorflow:From c:\\users\\ganesh\\anaconda3\\envs\\tf-gpu\\lib\\site-packages\\tensorflow_core\\python\\ops\\init_ops.py:97: calling GlorotUniform.__init__ (from tensorflow.python.ops.init_ops) with dtype is deprecated and will be removed in a future version.\n",
      "Instructions for updating:\n",
      "Call initializer instance with the dtype argument instead of passing it to the constructor\n",
      "WARNING:tensorflow:From c:\\users\\ganesh\\anaconda3\\envs\\tf-gpu\\lib\\site-packages\\tensorflow_core\\python\\ops\\init_ops.py:97: calling Zeros.__init__ (from tensorflow.python.ops.init_ops) with dtype is deprecated and will be removed in a future version.\n",
      "Instructions for updating:\n",
      "Call initializer instance with the dtype argument instead of passing it to the constructor\n",
      "Model: \"sequential\"\n",
      "_________________________________________________________________\n",
      "Layer (type)                 Output Shape              Param #   \n",
      "=================================================================\n",
      "conv2d (Conv2D)              (None, 98, 98, 64)        640       \n",
      "_________________________________________________________________\n",
      "max_pooling2d (MaxPooling2D) (None, 49, 49, 64)        0         \n",
      "_________________________________________________________________\n",
      "conv2d_1 (Conv2D)            (None, 16, 16, 64)        36928     \n",
      "_________________________________________________________________\n",
      "max_pooling2d_1 (MaxPooling2 (None, 8, 8, 64)          0         \n",
      "_________________________________________________________________\n",
      "flatten (Flatten)            (None, 4096)              0         \n",
      "_________________________________________________________________\n",
      "dense (Dense)                (None, 128)               524416    \n",
      "_________________________________________________________________\n",
      "dense_1 (Dense)              (None, 64)                8256      \n",
      "_________________________________________________________________\n",
      "dense_2 (Dense)              (None, 131)               8515      \n",
      "=================================================================\n",
      "Total params: 578,755\n",
      "Trainable params: 578,755\n",
      "Non-trainable params: 0\n",
      "_________________________________________________________________\n",
      "13539/13539 [==============================] - 18s 1ms/sample - loss: 2.9412e-04 - acc: 0.9756\n",
      "dict_keys(['loss', 'acc', 'val_loss', 'val_acc'])\n"
     ]
    }
   ],
   "source": [
    "model = load_model('saved_models/model.h5')\n",
    "model.summary()\n",
    "\n",
    "model.evaluate(x_test, y_test_one_hot)[1]\n",
    "\n",
    "history_dict = hist.history\n",
    "print(history_dict.keys())"
   ]
  },
  {
   "cell_type": "code",
   "execution_count": 11,
   "metadata": {},
   "outputs": [
    {
     "data": {
      "image/png": "[encoded data removed]",
      "text/plain": [
       "<Figure size 432x288 with 1 Axes>"
      ]
     },
     "metadata": {
      "needs_background": "light"
     },
     "output_type": "display_data"
    },
    {
     "data": {
      "image/png": "[encoded data removed]",
      "text/plain": [
       "<Figure size 432x288 with 1 Axes>"
      ]
     },
     "metadata": {
      "needs_background": "light"
     },
     "output_type": "display_data"
    }
   ],
   "source": [
    "plt.plot(hist.history['acc'])\n",
    "plt.plot(hist.history['val_acc'])\n",
    "plt.title('Model accuracy')\n",
    "plt.ylabel('acc')\n",
    "plt.xlabel('Epoch')\n",
    "plt.legend(['Train', 'Val'], loc='upper left')\n",
    "plt.show()\n",
    "\n",
    "plt.plot(hist.history['loss'])\n",
    "plt.plot(hist.history['val_loss'])\n",
    "plt.title('Model loss')\n",
    "plt.ylabel('Loss')\n",
    "plt.xlabel('Epoch')\n",
    "plt.legend(['Train', 'Val'], loc='upper right')\n",
    "plt.show()"
   ]
  },
  {
   "cell_type": "code",
   "execution_count": 12,
   "metadata": {},
   "outputs": [
    {
     "name": "stdout",
     "output_type": "stream",
     "text": [
      "Predicted Class: Apple Red 1 \n",
      "Probability: 99.99840259552002\n"
     ]
    },
    {
     "data": {
      "image/png": "[encoded data removed]",
      "text/plain": [
       "<Figure size 432x288 with 1 Axes>"
      ]
     },
     "metadata": {
      "needs_background": "light"
     },
     "output_type": "display_data"
    }
   ],
   "source": [
    "image_add='C:/Users/Ganesh/Desktop/Final/Test/4_100.jpg'\n",
    "my_image = plt.imread(image_add)\n",
    "plt.imshow(my_image)\n",
    "my_image_resized = resize(my_image, (IMG_SIZE,IMG_SIZE,1))\n",
    "probabilities = model.predict(np.array( [my_image_resized,] ))\n",
    "\n",
    "index = np.argsort(probabilities[0,:])\n",
    "print(\"Predicted Class:\", categories[index[len(categories)-1]],\"\\nProbability:\", probabilities[0,index[len(categories)-1]]*100)"
   ]
  },
  {
   "cell_type": "code",
   "execution_count": null,
   "metadata": {},
   "outputs": [],
   "source": []
  }
 ],
 "metadata": {
  "kernelspec": {
   "display_name": "Python 3",
   "language": "python",
   "name": "python3"
  },
  "language_info": {
   "codemirror_mode": {
    "name": "ipython",
    "version": 3
   },
   "file_extension": ".py",
   "mimetype": "text/x-python",
   "name": "python",
   "nbconvert_exporter": "python",
   "pygments_lexer": "ipython3",
   "version": "3.7.6"
  }
 },
 "nbformat": 4,
 "nbformat_minor": 4
}
